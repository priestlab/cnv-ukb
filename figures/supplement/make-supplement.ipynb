{
 "cells": [
  {
   "cell_type": "code",
   "execution_count": 1,
   "metadata": {
    "collapsed": true
   },
   "outputs": [],
   "source": [
    "import numpy as np\n",
    "import pandas as pd\n",
    "import glob"
   ]
  },
  {
   "cell_type": "code",
   "execution_count": 2,
   "metadata": {
    "collapsed": true
   },
   "outputs": [],
   "source": [
    "# supplementary data\n",
    "def name(f):\n",
    "    ana = 'HPO' if 'hpo' in f else 'GO' if 'go' in f else 'Gene'\n",
    "    var = 'Deletion' if 'del' in f else 'Duplication' if 'dup' in f else 'CNV'\n",
    "    return '_'.join([ana,var,'Constraint'])\n",
    "\n",
    "def read(f):\n",
    "    if 'hpo' in f:\n",
    "        names=['HPO_ID','delta_Z','P','HPO_Name','N_Genes']\n",
    "    elif 'go' in f:\n",
    "        names=['GO_ID','delta_Z','P','GO_Name','N_Genes']\n",
    "    else:\n",
    "        names=['Gene','Constraint_Z','pLI']\n",
    "    return pd.read_table(f, names=names, sep='\\t', header=None, index_col=None).dropna().astype(str)\n",
    "\n",
    "table_data = {name(f):read(f).apply(lambda s:s.replace(' ','_')) for f in glob.glob('../../constraint/*.tsv')}"
   ]
  },
  {
   "cell_type": "code",
   "execution_count": 3,
   "metadata": {
    "collapsed": true
   },
   "outputs": [],
   "source": [
    "w = pd.ExcelWriter('Supplementary_Data.xlsx')\n",
    "for sheet,df in table_data.items():\n",
    "    df.to_excel(w, sheet, index=False)\n",
    "w.save()"
   ]
  },
  {
   "cell_type": "code",
   "execution_count": 3,
   "metadata": {
    "collapsed": true
   },
   "outputs": [],
   "source": [
    "# supplementary tables\n",
    "def name(f):\n",
    "    return f.split('/')[-1][:9]\n",
    "\n",
    "def read(f):\n",
    "    return pd.read_table(f, sep='\\t').astype(str)\n",
    "\n",
    "other_data = {name(f):read(f) for f in glob.glob('*.tsv')}"
   ]
  },
  {
   "cell_type": "code",
   "execution_count": 4,
   "metadata": {},
   "outputs": [],
   "source": [
    "w = pd.ExcelWriter('Supplementary_Tables.xlsx')\n",
    "for sheet,df in other_data.items():\n",
    "    df.to_excel(w, sheet, index=False)\n",
    "w.save()"
   ]
  },
  {
   "cell_type": "code",
   "execution_count": null,
   "metadata": {
    "collapsed": true
   },
   "outputs": [],
   "source": []
  }
 ],
 "metadata": {
  "kernelspec": {
   "display_name": "Python 3",
   "language": "python",
   "name": "python3"
  },
  "language_info": {
   "codemirror_mode": {
    "name": "ipython",
    "version": 3
   },
   "file_extension": ".py",
   "mimetype": "text/x-python",
   "name": "python",
   "nbconvert_exporter": "python",
   "pygments_lexer": "ipython3",
   "version": "3.6.1"
  }
 },
 "nbformat": 4,
 "nbformat_minor": 2
}
