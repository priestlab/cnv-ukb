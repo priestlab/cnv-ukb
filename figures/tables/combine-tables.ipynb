{
 "cells": [
  {
   "cell_type": "code",
   "execution_count": 1,
   "metadata": {
    "collapsed": true
   },
   "outputs": [],
   "source": [
    "import numpy as np\n",
    "import pandas as pd\n",
    "import glob"
   ]
  },
  {
   "cell_type": "code",
   "execution_count": 2,
   "metadata": {
    "collapsed": true
   },
   "outputs": [],
   "source": [
    "def name(f):\n",
    "    return f.split('/')[-1][:6]\n",
    "\n",
    "def read(f):\n",
    "    return pd.read_table(f, sep='\\t').astype(str).replace(' ','_')\n",
    "\n",
    "table_data = {name(f):read(f) for f in glob.glob('*.tsv')}"
   ]
  },
  {
   "cell_type": "code",
   "execution_count": 3,
   "metadata": {
    "collapsed": true
   },
   "outputs": [],
   "source": [
    "w = pd.ExcelWriter('Tables.xlsx')\n",
    "for sheet,df in table_data.items():\n",
    "    df.to_excel(w, sheet, index=False)\n",
    "w.save()"
   ]
  }
 ],
 "metadata": {
  "kernelspec": {
   "display_name": "Python 3",
   "language": "python",
   "name": "python3"
  },
  "language_info": {
   "codemirror_mode": {
    "name": "ipython",
    "version": 3
   },
   "file_extension": ".py",
   "mimetype": "text/x-python",
   "name": "python",
   "nbconvert_exporter": "python",
   "pygments_lexer": "ipython3",
   "version": "3.6.1"
  }
 },
 "nbformat": 4,
 "nbformat_minor": 2
}
